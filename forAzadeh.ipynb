{
 "cells": [
  {
   "cell_type": "markdown",
   "id": "d8adc9c5-a40a-4626-8eab-6fa2c267ee7a",
   "metadata": {},
   "source": [
    "# SQL Queries to access database\n"
   ]
  },
  {
   "cell_type": "markdown",
   "id": "a6de002a-aaa0-4d73-9786-541154253f9f",
   "metadata": {},
   "source": [
    "# Fixed Code Below-------------------------------"
   ]
  },
  {
   "cell_type": "code",
   "execution_count": 26,
   "id": "b66b6a8e-a2d2-44fc-a215-44d12c0c6dc4",
   "metadata": {},
   "outputs": [],
   "source": [
    "# --may want to change me here\n",
    "dsn=get_user_db_creds('hong_tang', 'alp')"
   ]
  },
  {
   "cell_type": "code",
   "execution_count": 27,
   "id": "f9f245cb-cb69-4211-9bc6-e0e8cb51a259",
   "metadata": {},
   "outputs": [],
   "source": [
    "sqlalchemy_dsn = 'postgresql://{user}:{password}@{host}:{port}/{db}'.format(**dsn)\n",
    "pg_conn = connect_db(sqlalchemy_dsn)"
   ]
  },
  {
   "cell_type": "markdown",
   "id": "c9e15500-e6a2-4e86-8ae1-2b2f79f445a9",
   "metadata": {},
   "source": [
    "# Starting to select devices you want to pull..\n",
    "## Example 1. pull CALVAL Data\n"
   ]
  },
  {
   "cell_type": "code",
   "execution_count": 39,
   "id": "5180120e-76d9-4cd6-8e8e-c12c91aabe20",
   "metadata": {},
   "outputs": [],
   "source": [
    "def read_sentek_daily(cnx, device, begin, end):\n",
    "    schema_raw = 'sentek_daily'\n",
    "    query_template_raw = \"\"\"\n",
    "--may want to change me here, h.time, h.device, h.location, h.precip, h.rh \n",
    "select * from device_data.{schema} h\n",
    "where h.device = '{device}' and h.time >= '{start}' and h.time < '{end}';\n",
    "\"\"\"\n",
    "\n",
    "    sql_query = query_template_raw.format(schema=schema_raw, device=device, start=begin, end=end)\n",
    "    df = pd.read_sql_query(sql_query, cnx)\n",
    "\n",
    "    return df\n",
    "\n"
   ]
  },
  {
   "cell_type": "code",
   "execution_count": 40,
   "id": "1e8de43f-c5f1-4308-826a-abd6f6bbe167",
   "metadata": {},
   "outputs": [],
   "source": [
    "# --may want to change me here\n",
    "# --may want to change me here\n",
    "device_list=['C012487']\n",
    "start='2022-04-15'\n",
    "end='2022-09-07'"
   ]
  },
  {
   "cell_type": "code",
   "execution_count": 41,
   "id": "91016dd9-e0ee-4c35-aa48-10d984cdeaee",
   "metadata": {
    "tags": []
   },
   "outputs": [
    {
     "name": "stdout",
     "output_type": "stream",
     "text": [
      "C012487 2022-04-15 2022-09-07\n",
      "(85, 144)\n"
     ]
    }
   ],
   "source": [
    "series = []\n",
    "df_final = pd.DataFrame()\n",
    "\n",
    "for device in device_list:\n",
    "    print(device, start, end)\n",
    "#     device='*'\n",
    "\n",
    "    df_calval = read_sentek_daily(pg_conn, device, start, end)\n",
    "    print(df_calval.shape)\n",
    "    if not df_calval.empty:\n",
    "        df_final=pd.concat([df_final, df_calval])"
   ]
  },
  {
   "cell_type": "markdown",
   "id": "7274f55d-2002-48cb-a21b-1160806fdff3",
   "metadata": {},
   "source": [
    "# Fixed Code Above --------------------"
   ]
  }
 ],
 "metadata": {
  "instance_type": "ml.t3.medium",
  "kernelspec": {
   "display_name": "Python 3 (Data Science)",
   "language": "python",
   "name": "python3__SAGEMAKER_INTERNAL__arn:aws:sagemaker:us-east-1:081325390199:image/datascience-1.0"
  },
  "language_info": {
   "codemirror_mode": {
    "name": "ipython",
    "version": 3
   },
   "file_extension": ".py",
   "mimetype": "text/x-python",
   "name": "python",
   "nbconvert_exporter": "python",
   "pygments_lexer": "ipython3",
   "version": "3.7.10"
  }
 },
 "nbformat": 4,
 "nbformat_minor": 5
}
