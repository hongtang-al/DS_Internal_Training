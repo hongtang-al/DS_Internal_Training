{
 "cells": [
  {
   "cell_type": "code",
   "execution_count": 148,
   "metadata": {
    "ExecuteTime": {
     "end_time": "2022-05-25T03:36:00.213844Z",
     "start_time": "2022-05-25T03:36:00.211346Z"
    }
   },
   "outputs": [],
   "source": [
    "# you may need this packages when you first time run on your sagemaker instances\n",
    "\n",
    "# %conda install psycopg2\n",
    "# %conda install -c anaconda boto3\n",
    "\n",
    "# %conda install -y -c anaconda sqlalchemy"
   ]
  },
  {
   "cell_type": "code",
   "execution_count": 2,
   "metadata": {
    "ExecuteTime": {
     "end_time": "2022-05-25T03:36:38.050132Z",
     "start_time": "2022-05-25T03:36:37.435504Z"
    },
    "pycharm": {
     "name": "#%%\n"
    }
   },
   "outputs": [],
   "source": [
    "import boto3\n",
    "import json\n",
    "import pandas as pd\n",
    "import numpy as np\n",
    "from datetime import timedelta\n",
    "from sqlalchemy import create_engine\n",
    "\n",
    "from IPython.display import display\n",
    "import matplotlib.pyplot as plt"
   ]
  },
  {
   "cell_type": "markdown",
   "metadata": {
    "pycharm": {
     "name": "#%% md\n"
    }
   },
   "source": [
    "## Connect to Database"
   ]
  },
  {
   "cell_type": "code",
   "execution_count": 3,
   "metadata": {
    "ExecuteTime": {
     "end_time": "2022-05-25T03:36:38.204234Z",
     "start_time": "2022-05-25T03:36:38.200834Z"
    },
    "pycharm": {
     "name": "#%%\n"
    }
   },
   "outputs": [],
   "source": [
    "#personal tocken\n",
    "dsn = dict(host='application-db-ro.test.arable.cloud',\n",
    "           user='hong_tang',\n",
    "           password='rsPq9J2GIEjq',\n",
    "           port='5432',\n",
    "           dbname='arable'\n",
    "          )\n",
    "sqlalchemy_dsn = 'postgresql://{user}:{password}@{host}:{port}/{dbname}'.format(**dsn)"
   ]
  },
  {
   "cell_type": "code",
   "execution_count": 4,
   "metadata": {
    "ExecuteTime": {
     "end_time": "2022-05-25T03:36:38.644151Z",
     "start_time": "2022-05-25T03:36:38.641512Z"
    },
    "pycharm": {
     "name": "#%%\n"
    }
   },
   "outputs": [],
   "source": [
    "def connect_db(dsn: str) -> str:\n",
    "    cnx = create_engine(dsn)\n",
    "\n",
    "    return cnx"
   ]
  },
  {
   "cell_type": "markdown",
   "metadata": {},
   "source": [
    "## SQL Queries to access database"
   ]
  },
  {
   "cell_type": "code",
   "execution_count": 5,
   "metadata": {
    "ExecuteTime": {
     "end_time": "2022-05-25T03:36:39.213329Z",
     "start_time": "2022-05-25T03:36:39.208838Z"
    },
    "pycharm": {
     "name": "#%%\n"
    }
   },
   "outputs": [],
   "source": [
    "def read_hourly(cnx, device, begin, end):\n",
    "    schema_raw = 'hourly'\n",
    "    query_template_raw = \"\"\"\n",
    "select h.time, h.device, h.location, h.precip, h.rh \n",
    "from device_data.{schema} as h\n",
    "where h.device = '{device}' and h.time >= '{start}' and h.time < '{end}';\n",
    "\"\"\"\n",
    "\n",
    "    sql_query = query_template_raw.format(schema=schema_raw, device=device, start=begin, end=end)\n",
    "    df = pd.read_sql_query(sql_query, cnx)\n",
    "\n",
    "    return df\n",
    "\n",
    "def read_raw(cnx, device, begin, end):\n",
    "    schema_raw = 'raw'\n",
    "    query_template_raw = \"\"\"\n",
    "select r.time, r.device, r.location, r.rh \n",
    "from device_data.{schema} as r\n",
    "where r.device = '{device}' and r.time >= '{start}' and r.time < '{end}';\n",
    "\"\"\"\n",
    "\n",
    "    sql_query = query_template_raw.format(schema=schema_raw, device=device, start=begin, end=end)\n",
    "\n",
    "    df = pd.read_sql_query(sql_query, cnx)\n",
    "\n",
    "    return df"
   ]
  },
  {
   "cell_type": "markdown",
   "metadata": {},
   "source": [
    "## Function to add time as index to final dataframe"
   ]
  },
  {
   "cell_type": "code",
   "execution_count": 6,
   "metadata": {},
   "outputs": [],
   "source": [
    "def settimeindex(df_final):\n",
    "    '''set time as time index for later plot and data management'''\n",
    "    df_final=df_final.reset_index()\n",
    "    if 'time' in df_final.columns:\n",
    "        df_final.set_index(pd.DatetimeIndex(df_final.time), inplace=True)\n",
    "    elif 'ref_hourlydate' in df_final.columns:\n",
    "        df_final.set_index(pd.DatetimeIndex(df_final.ref_hourlydate), inplace=True)\n",
    "    return df_final\n"
   ]
  },
  {
   "cell_type": "markdown",
   "metadata": {
    "ExecuteTime": {
     "end_time": "2022-05-25T03:36:41.484992Z",
     "start_time": "2022-05-25T03:36:41.481533Z"
    }
   },
   "source": [
    "## initialize database connection"
   ]
  },
  {
   "cell_type": "code",
   "execution_count": 7,
   "metadata": {
    "ExecuteTime": {
     "end_time": "2022-05-25T03:36:51.922110Z",
     "start_time": "2022-05-25T03:36:51.889159Z"
    },
    "pycharm": {
     "name": "#%%\n"
    }
   },
   "outputs": [],
   "source": [
    "pg_conn = connect_db(sqlalchemy_dsn)"
   ]
  },
  {
   "cell_type": "markdown",
   "metadata": {
    "pycharm": {
     "name": "#%% md\n"
    }
   },
   "source": [
    "## Starting to select devices you want to pull.."
   ]
  },
  {
   "cell_type": "markdown",
   "metadata": {},
   "source": [
    "### Example 1. pull CALVAL Data"
   ]
  },
  {
   "cell_type": "code",
   "execution_count": 8,
   "metadata": {
    "ExecuteTime": {
     "end_time": "2022-05-25T03:44:45.797038Z",
     "start_time": "2022-05-25T03:44:45.790922Z"
    }
   },
   "outputs": [],
   "source": [
    "device_list=['C005252', 'C004146']\n",
    "start='2021-05-21'\n",
    "end='2021-06-17'"
   ]
  },
  {
   "cell_type": "code",
   "execution_count": 61,
   "metadata": {},
   "outputs": [],
   "source": [
    "\n",
    "def read_calval(cnx, device, begin, end):\n",
    "    schema_calval = 'calval_ref_data'\n",
    "    query_template_calval = \"\"\"\n",
    "\n",
    "select crd.ref_hourlydate, cdr.mark2 device, \n",
    "avg(crd.ref_tair) ref_tair,avg(crd.ref_p) ref_p,\n",
    "avg(crd.ref_swdw) ref_swdw,avg(crd.ref_tdew) ref_tdew,\n",
    "avg(crd.ref_swuw) ref_swuw,avg(crd.ref_lwdw) ref_lwdw,\n",
    "avg(crd.ref_lwuw) ref_lwuw,avg(crd.ref_lfw) ref_lfw,\n",
    "avg(crd.ref_tbelow) ref_tbelow,avg(crd.ref_pardw) ref_pardw,\n",
    "avg(crd.ref_paruw) ref_paruw,avg(crd.ref_lat) ref_lat,avg(crd.ref_long) ref_long,\n",
    "avg(crd.ref_rh) ref_rh,\n",
    "sum(crd.ref_precip) ref_precip\n",
    "from device_data.{schema} crd \n",
    "join\n",
    "\t device_data.calvaldevicereference cdr \n",
    "\t on crd.site_id=cdr.site\n",
    "where crd.ref_hourlydate between '{start}' and '{end}'\n",
    "and crd.ref_precip is not null\n",
    "and cdr.mark2 = '{device}'\n",
    "\n",
    "group by crd.ref_hourlydate,cdr.mark2\n",
    "order by cdr.mark2 asc, \n",
    "\t\tcrd.ref_hourlydate asc\n",
    "--limit 10\n",
    "\n",
    "\"\"\"\n",
    "\n",
    "    sql_query = query_template_calval.format(schema=schema_calval, device=device, start=begin, end=end)\n",
    "\n",
    "    df = pd.read_sql_query(sql_query, cnx)\n",
    "\n",
    "    return df"
   ]
  },
  {
   "cell_type": "code",
   "execution_count": 62,
   "metadata": {
    "ExecuteTime": {
     "end_time": "2022-05-25T03:44:45.797038Z",
     "start_time": "2022-05-25T03:44:45.790922Z"
    }
   },
   "outputs": [],
   "source": [
    "device_list=['C004223', 'C005042'] \n",
    "start='2021-05-21'\n",
    "end='2021-06-17'"
   ]
  },
  {
   "cell_type": "code",
   "execution_count": 63,
   "metadata": {
    "ExecuteTime": {
     "end_time": "2022-05-25T03:46:15.667072Z",
     "start_time": "2022-05-25T03:45:47.967546Z"
    }
   },
   "outputs": [
    {
     "name": "stdout",
     "output_type": "stream",
     "text": [
      "C004223 2021-05-21 2021-06-17\n",
      "(649, 17)\n",
      "C005042 2021-05-21 2021-06-17\n",
      "(649, 17)\n"
     ]
    }
   ],
   "source": [
    "series = []\n",
    "df_final = pd.DataFrame()\n",
    "\n",
    "for device in device_list:\n",
    "    print(device, start, end)\n",
    "#     device='*'\n",
    "    df_calval = read_calval(pg_conn, device, start, end)\n",
    "    print(df_calval.shape)\n",
    "    if not df_calval.empty:\n",
    "        df_final=pd.concat([df_final, df_calval])\n"
   ]
  },
  {
   "cell_type": "code",
   "execution_count": 64,
   "metadata": {
    "ExecuteTime": {
     "end_time": "2022-05-25T03:42:24.896847Z",
     "start_time": "2022-05-25T03:42:24.880098Z"
    }
   },
   "outputs": [],
   "source": [
    "#change set time data as index, run \n",
    "df_calval=settimeindex(df_final)"
   ]
  },
  {
   "cell_type": "code",
   "execution_count": 65,
   "metadata": {},
   "outputs": [
    {
     "data": {
      "text/html": [
       "<div>\n",
       "<style scoped>\n",
       "    .dataframe tbody tr th:only-of-type {\n",
       "        vertical-align: middle;\n",
       "    }\n",
       "\n",
       "    .dataframe tbody tr th {\n",
       "        vertical-align: top;\n",
       "    }\n",
       "\n",
       "    .dataframe thead th {\n",
       "        text-align: right;\n",
       "    }\n",
       "</style>\n",
       "<table border=\"1\" class=\"dataframe\">\n",
       "  <thead>\n",
       "    <tr style=\"text-align: right;\">\n",
       "      <th></th>\n",
       "      <th>index</th>\n",
       "      <th>ref_hourlydate</th>\n",
       "      <th>device</th>\n",
       "      <th>ref_tair</th>\n",
       "      <th>ref_p</th>\n",
       "      <th>ref_swdw</th>\n",
       "      <th>ref_tdew</th>\n",
       "      <th>ref_swuw</th>\n",
       "      <th>ref_lwdw</th>\n",
       "      <th>ref_lwuw</th>\n",
       "      <th>ref_lfw</th>\n",
       "      <th>ref_tbelow</th>\n",
       "      <th>ref_pardw</th>\n",
       "      <th>ref_paruw</th>\n",
       "      <th>ref_lat</th>\n",
       "      <th>ref_long</th>\n",
       "      <th>ref_rh</th>\n",
       "      <th>ref_precip</th>\n",
       "    </tr>\n",
       "    <tr>\n",
       "      <th>ref_hourlydate</th>\n",
       "      <th></th>\n",
       "      <th></th>\n",
       "      <th></th>\n",
       "      <th></th>\n",
       "      <th></th>\n",
       "      <th></th>\n",
       "      <th></th>\n",
       "      <th></th>\n",
       "      <th></th>\n",
       "      <th></th>\n",
       "      <th></th>\n",
       "      <th></th>\n",
       "      <th></th>\n",
       "      <th></th>\n",
       "      <th></th>\n",
       "      <th></th>\n",
       "      <th></th>\n",
       "      <th></th>\n",
       "    </tr>\n",
       "  </thead>\n",
       "  <tbody>\n",
       "    <tr>\n",
       "      <th>2021-05-21 00:00:00+00:00</th>\n",
       "      <td>0</td>\n",
       "      <td>2021-05-21 00:00:00+00:00</td>\n",
       "      <td>C004223</td>\n",
       "      <td>22.444444</td>\n",
       "      <td>100.824362</td>\n",
       "      <td>185.583333</td>\n",
       "      <td>20.638108</td>\n",
       "      <td>None</td>\n",
       "      <td>None</td>\n",
       "      <td>None</td>\n",
       "      <td>None</td>\n",
       "      <td>None</td>\n",
       "      <td>None</td>\n",
       "      <td>None</td>\n",
       "      <td>None</td>\n",
       "      <td>None</td>\n",
       "      <td>0.895833</td>\n",
       "      <td>2.794</td>\n",
       "    </tr>\n",
       "    <tr>\n",
       "      <th>2021-05-21 01:00:00+00:00</th>\n",
       "      <td>1</td>\n",
       "      <td>2021-05-21 01:00:00+00:00</td>\n",
       "      <td>C004223</td>\n",
       "      <td>22.129629</td>\n",
       "      <td>100.778644</td>\n",
       "      <td>110.750000</td>\n",
       "      <td>20.496872</td>\n",
       "      <td>None</td>\n",
       "      <td>None</td>\n",
       "      <td>None</td>\n",
       "      <td>None</td>\n",
       "      <td>None</td>\n",
       "      <td>None</td>\n",
       "      <td>None</td>\n",
       "      <td>None</td>\n",
       "      <td>None</td>\n",
       "      <td>0.905000</td>\n",
       "      <td>0.254</td>\n",
       "    </tr>\n",
       "    <tr>\n",
       "      <th>2021-05-21 02:00:00+00:00</th>\n",
       "      <td>2</td>\n",
       "      <td>2021-05-21 02:00:00+00:00</td>\n",
       "      <td>C004223</td>\n",
       "      <td>22.638888</td>\n",
       "      <td>100.768202</td>\n",
       "      <td>96.000000</td>\n",
       "      <td>20.407631</td>\n",
       "      <td>None</td>\n",
       "      <td>None</td>\n",
       "      <td>None</td>\n",
       "      <td>None</td>\n",
       "      <td>None</td>\n",
       "      <td>None</td>\n",
       "      <td>None</td>\n",
       "      <td>None</td>\n",
       "      <td>None</td>\n",
       "      <td>0.872500</td>\n",
       "      <td>0.000</td>\n",
       "    </tr>\n",
       "    <tr>\n",
       "      <th>2021-05-21 03:00:00+00:00</th>\n",
       "      <td>3</td>\n",
       "      <td>2021-05-21 03:00:00+00:00</td>\n",
       "      <td>C004223</td>\n",
       "      <td>22.787038</td>\n",
       "      <td>100.773000</td>\n",
       "      <td>64.250000</td>\n",
       "      <td>20.003992</td>\n",
       "      <td>None</td>\n",
       "      <td>None</td>\n",
       "      <td>None</td>\n",
       "      <td>None</td>\n",
       "      <td>None</td>\n",
       "      <td>None</td>\n",
       "      <td>None</td>\n",
       "      <td>None</td>\n",
       "      <td>None</td>\n",
       "      <td>0.843333</td>\n",
       "      <td>0.000</td>\n",
       "    </tr>\n",
       "    <tr>\n",
       "      <th>2021-05-21 04:00:00+00:00</th>\n",
       "      <td>4</td>\n",
       "      <td>2021-05-21 04:00:00+00:00</td>\n",
       "      <td>C004223</td>\n",
       "      <td>22.583333</td>\n",
       "      <td>100.818153</td>\n",
       "      <td>18.500000</td>\n",
       "      <td>19.773106</td>\n",
       "      <td>None</td>\n",
       "      <td>None</td>\n",
       "      <td>None</td>\n",
       "      <td>None</td>\n",
       "      <td>None</td>\n",
       "      <td>None</td>\n",
       "      <td>None</td>\n",
       "      <td>None</td>\n",
       "      <td>None</td>\n",
       "      <td>0.841667</td>\n",
       "      <td>0.000</td>\n",
       "    </tr>\n",
       "    <tr>\n",
       "      <th>...</th>\n",
       "      <td>...</td>\n",
       "      <td>...</td>\n",
       "      <td>...</td>\n",
       "      <td>...</td>\n",
       "      <td>...</td>\n",
       "      <td>...</td>\n",
       "      <td>...</td>\n",
       "      <td>...</td>\n",
       "      <td>...</td>\n",
       "      <td>...</td>\n",
       "      <td>...</td>\n",
       "      <td>...</td>\n",
       "      <td>...</td>\n",
       "      <td>...</td>\n",
       "      <td>...</td>\n",
       "      <td>...</td>\n",
       "      <td>...</td>\n",
       "      <td>...</td>\n",
       "    </tr>\n",
       "    <tr>\n",
       "      <th>2021-06-16 20:00:00+00:00</th>\n",
       "      <td>644</td>\n",
       "      <td>2021-06-16 20:00:00+00:00</td>\n",
       "      <td>C005042</td>\n",
       "      <td>24.379629</td>\n",
       "      <td>101.024722</td>\n",
       "      <td>752.083333</td>\n",
       "      <td>21.655668</td>\n",
       "      <td>None</td>\n",
       "      <td>None</td>\n",
       "      <td>None</td>\n",
       "      <td>None</td>\n",
       "      <td>None</td>\n",
       "      <td>None</td>\n",
       "      <td>None</td>\n",
       "      <td>None</td>\n",
       "      <td>None</td>\n",
       "      <td>0.850000</td>\n",
       "      <td>0.000</td>\n",
       "    </tr>\n",
       "    <tr>\n",
       "      <th>2021-06-16 21:00:00+00:00</th>\n",
       "      <td>645</td>\n",
       "      <td>2021-06-16 21:00:00+00:00</td>\n",
       "      <td>C005042</td>\n",
       "      <td>25.106482</td>\n",
       "      <td>100.986060</td>\n",
       "      <td>375.500000</td>\n",
       "      <td>21.270362</td>\n",
       "      <td>None</td>\n",
       "      <td>None</td>\n",
       "      <td>None</td>\n",
       "      <td>None</td>\n",
       "      <td>None</td>\n",
       "      <td>None</td>\n",
       "      <td>None</td>\n",
       "      <td>None</td>\n",
       "      <td>None</td>\n",
       "      <td>0.793333</td>\n",
       "      <td>0.000</td>\n",
       "    </tr>\n",
       "    <tr>\n",
       "      <th>2021-06-16 22:00:00+00:00</th>\n",
       "      <td>646</td>\n",
       "      <td>2021-06-16 22:00:00+00:00</td>\n",
       "      <td>C005042</td>\n",
       "      <td>25.532408</td>\n",
       "      <td>100.945989</td>\n",
       "      <td>494.666667</td>\n",
       "      <td>21.027987</td>\n",
       "      <td>None</td>\n",
       "      <td>None</td>\n",
       "      <td>None</td>\n",
       "      <td>None</td>\n",
       "      <td>None</td>\n",
       "      <td>None</td>\n",
       "      <td>None</td>\n",
       "      <td>None</td>\n",
       "      <td>None</td>\n",
       "      <td>0.762500</td>\n",
       "      <td>0.000</td>\n",
       "    </tr>\n",
       "    <tr>\n",
       "      <th>2021-06-16 23:00:00+00:00</th>\n",
       "      <td>647</td>\n",
       "      <td>2021-06-16 23:00:00+00:00</td>\n",
       "      <td>C005042</td>\n",
       "      <td>25.833333</td>\n",
       "      <td>100.888986</td>\n",
       "      <td>366.083333</td>\n",
       "      <td>21.277841</td>\n",
       "      <td>None</td>\n",
       "      <td>None</td>\n",
       "      <td>None</td>\n",
       "      <td>None</td>\n",
       "      <td>None</td>\n",
       "      <td>None</td>\n",
       "      <td>None</td>\n",
       "      <td>None</td>\n",
       "      <td>None</td>\n",
       "      <td>0.760000</td>\n",
       "      <td>0.000</td>\n",
       "    </tr>\n",
       "    <tr>\n",
       "      <th>2021-06-17 00:00:00+00:00</th>\n",
       "      <td>648</td>\n",
       "      <td>2021-06-17 00:00:00+00:00</td>\n",
       "      <td>C005042</td>\n",
       "      <td>25.763889</td>\n",
       "      <td>100.839601</td>\n",
       "      <td>434.583333</td>\n",
       "      <td>21.227782</td>\n",
       "      <td>None</td>\n",
       "      <td>None</td>\n",
       "      <td>None</td>\n",
       "      <td>None</td>\n",
       "      <td>None</td>\n",
       "      <td>None</td>\n",
       "      <td>None</td>\n",
       "      <td>None</td>\n",
       "      <td>None</td>\n",
       "      <td>0.760833</td>\n",
       "      <td>0.000</td>\n",
       "    </tr>\n",
       "  </tbody>\n",
       "</table>\n",
       "<p>1298 rows × 18 columns</p>\n",
       "</div>"
      ],
      "text/plain": [
       "                           index            ref_hourlydate   device  \\\n",
       "ref_hourlydate                                                        \n",
       "2021-05-21 00:00:00+00:00      0 2021-05-21 00:00:00+00:00  C004223   \n",
       "2021-05-21 01:00:00+00:00      1 2021-05-21 01:00:00+00:00  C004223   \n",
       "2021-05-21 02:00:00+00:00      2 2021-05-21 02:00:00+00:00  C004223   \n",
       "2021-05-21 03:00:00+00:00      3 2021-05-21 03:00:00+00:00  C004223   \n",
       "2021-05-21 04:00:00+00:00      4 2021-05-21 04:00:00+00:00  C004223   \n",
       "...                          ...                       ...      ...   \n",
       "2021-06-16 20:00:00+00:00    644 2021-06-16 20:00:00+00:00  C005042   \n",
       "2021-06-16 21:00:00+00:00    645 2021-06-16 21:00:00+00:00  C005042   \n",
       "2021-06-16 22:00:00+00:00    646 2021-06-16 22:00:00+00:00  C005042   \n",
       "2021-06-16 23:00:00+00:00    647 2021-06-16 23:00:00+00:00  C005042   \n",
       "2021-06-17 00:00:00+00:00    648 2021-06-17 00:00:00+00:00  C005042   \n",
       "\n",
       "                            ref_tair       ref_p    ref_swdw   ref_tdew  \\\n",
       "ref_hourlydate                                                            \n",
       "2021-05-21 00:00:00+00:00  22.444444  100.824362  185.583333  20.638108   \n",
       "2021-05-21 01:00:00+00:00  22.129629  100.778644  110.750000  20.496872   \n",
       "2021-05-21 02:00:00+00:00  22.638888  100.768202   96.000000  20.407631   \n",
       "2021-05-21 03:00:00+00:00  22.787038  100.773000   64.250000  20.003992   \n",
       "2021-05-21 04:00:00+00:00  22.583333  100.818153   18.500000  19.773106   \n",
       "...                              ...         ...         ...        ...   \n",
       "2021-06-16 20:00:00+00:00  24.379629  101.024722  752.083333  21.655668   \n",
       "2021-06-16 21:00:00+00:00  25.106482  100.986060  375.500000  21.270362   \n",
       "2021-06-16 22:00:00+00:00  25.532408  100.945989  494.666667  21.027987   \n",
       "2021-06-16 23:00:00+00:00  25.833333  100.888986  366.083333  21.277841   \n",
       "2021-06-17 00:00:00+00:00  25.763889  100.839601  434.583333  21.227782   \n",
       "\n",
       "                          ref_swuw ref_lwdw ref_lwuw ref_lfw ref_tbelow  \\\n",
       "ref_hourlydate                                                            \n",
       "2021-05-21 00:00:00+00:00     None     None     None    None       None   \n",
       "2021-05-21 01:00:00+00:00     None     None     None    None       None   \n",
       "2021-05-21 02:00:00+00:00     None     None     None    None       None   \n",
       "2021-05-21 03:00:00+00:00     None     None     None    None       None   \n",
       "2021-05-21 04:00:00+00:00     None     None     None    None       None   \n",
       "...                            ...      ...      ...     ...        ...   \n",
       "2021-06-16 20:00:00+00:00     None     None     None    None       None   \n",
       "2021-06-16 21:00:00+00:00     None     None     None    None       None   \n",
       "2021-06-16 22:00:00+00:00     None     None     None    None       None   \n",
       "2021-06-16 23:00:00+00:00     None     None     None    None       None   \n",
       "2021-06-17 00:00:00+00:00     None     None     None    None       None   \n",
       "\n",
       "                          ref_pardw ref_paruw ref_lat ref_long    ref_rh  \\\n",
       "ref_hourlydate                                                             \n",
       "2021-05-21 00:00:00+00:00      None      None    None     None  0.895833   \n",
       "2021-05-21 01:00:00+00:00      None      None    None     None  0.905000   \n",
       "2021-05-21 02:00:00+00:00      None      None    None     None  0.872500   \n",
       "2021-05-21 03:00:00+00:00      None      None    None     None  0.843333   \n",
       "2021-05-21 04:00:00+00:00      None      None    None     None  0.841667   \n",
       "...                             ...       ...     ...      ...       ...   \n",
       "2021-06-16 20:00:00+00:00      None      None    None     None  0.850000   \n",
       "2021-06-16 21:00:00+00:00      None      None    None     None  0.793333   \n",
       "2021-06-16 22:00:00+00:00      None      None    None     None  0.762500   \n",
       "2021-06-16 23:00:00+00:00      None      None    None     None  0.760000   \n",
       "2021-06-17 00:00:00+00:00      None      None    None     None  0.760833   \n",
       "\n",
       "                           ref_precip  \n",
       "ref_hourlydate                         \n",
       "2021-05-21 00:00:00+00:00       2.794  \n",
       "2021-05-21 01:00:00+00:00       0.254  \n",
       "2021-05-21 02:00:00+00:00       0.000  \n",
       "2021-05-21 03:00:00+00:00       0.000  \n",
       "2021-05-21 04:00:00+00:00       0.000  \n",
       "...                               ...  \n",
       "2021-06-16 20:00:00+00:00       0.000  \n",
       "2021-06-16 21:00:00+00:00       0.000  \n",
       "2021-06-16 22:00:00+00:00       0.000  \n",
       "2021-06-16 23:00:00+00:00       0.000  \n",
       "2021-06-17 00:00:00+00:00       0.000  \n",
       "\n",
       "[1298 rows x 18 columns]"
      ]
     },
     "execution_count": 65,
     "metadata": {},
     "output_type": "execute_result"
    }
   ],
   "source": [
    "df_calval"
   ]
  },
  {
   "cell_type": "markdown",
   "metadata": {},
   "source": [
    "## Here We learn how to pull CalVal Data, Good Job!"
   ]
  },
  {
   "cell_type": "markdown",
   "metadata": {},
   "source": [
    "## EXample 2: pull CalVal-Mark2 Joined Data "
   ]
  },
  {
   "cell_type": "markdown",
   "metadata": {},
   "source": [
    "### Currently only hourly data are available. We are working on pull 5min data!"
   ]
  },
  {
   "cell_type": "code",
   "execution_count": 75,
   "metadata": {},
   "outputs": [],
   "source": [
    "\n",
    "def read_calval_dev(cnx, device, begin, end):\n",
    "    schema_calval_dev = 'calval_ref_data'\n",
    "    query_template_calval_dev = \"\"\"\n",
    "\n",
    "with \n",
    "Hourly_data_alp as\n",
    "\t( select alp_h.time,alp_h.device,alp_h.location,alp_h.tair,alp_h.p,alp_h.swdw,alp_h.tdew,alp_h.swuw,alp_h.lwdw,alp_h.lwuw,alp_h.lfw,\n",
    "\t \t\talp_h.tbelow,alp_h.pardw,alp_h.paruw,alp_h.lat,alp_h.long,alp_h.rh,\n",
    "\t\talp_h.precip from device_data.hourly_alp alp_h\t\t\t\t\n",
    "\t\twhere time between '{start}' and '{end}'\n",
    "\t\t\t--alp_h.device=case when pdevice is null then alp_h.device else pdevice end \n",
    "\t),\n",
    "calvaldata as\n",
    "(select crd.ref_hourlydate,cdr.mark2 device,avg(crd.ref_tair) ref_tair,avg(crd.ref_p) ref_p,\n",
    "\t\t\t\t\tavg(crd.ref_swdw) ref_swdw,avg(crd.ref_tdew) ref_tdew,\n",
    "\t\t\t\t\tavg(crd.ref_swuw) ref_swuw,avg(crd.ref_lwdw) ref_lwdw,\n",
    "\t\t\t\t\tavg(crd.ref_lwuw) ref_lwuw,avg(crd.ref_lfw) ref_lfw,\n",
    "\t\t\t\t\tavg(crd.ref_tbelow) ref_tbelow,avg(crd.ref_pardw) ref_pardw,\n",
    "\t\t\t\t\tavg(crd.ref_paruw) ref_paruw,avg(crd.ref_lat) ref_lat,avg(crd.ref_long) ref_long,\n",
    "\t\t\t\t\tavg(crd.ref_rh) ref_rh,\n",
    "\t\t\t\t\tsum(crd.ref_precip) ref_precip\n",
    "from device_data.calval_ref_data crd \n",
    "join device_data.calvaldevicereference cdr \t on crd.site_id=cdr.site\n",
    "where crd.ref_hourlydate between '{start}' and '{end}'\n",
    "\t--\tand cdr.mark2=case when null is null then cdr.mark2 else null end\n",
    "\t\tand crd.ref_precip is not null\n",
    "\tgroup by crd.ref_hourlydate,cdr.mark2\n",
    ")\t\n",
    "-- currently only pull tair/ref_tair, you can expand the columns to fit your need\t\n",
    "select cv.ref_hourlydate as time, cv.device,alph.tair,cv.ref_tair\n",
    "from Hourly_data_alp alph \n",
    "join calvaldata cv on alph.time=cv.ref_hourlydate and alph.device=cv.device\t\t\t\t\n",
    "where cv.device = '{device}'\n",
    "order by cv.device, cv.ref_hourlydate asc \n",
    "\n",
    "\n",
    "\"\"\"\n",
    "\n",
    "    sql_query = query_template_calval_dev.format(schema=schema_calval_dev, device=device, start=begin, end=end)\n",
    "\n",
    "    df = pd.read_sql_query(sql_query, cnx)\n",
    "\n",
    "    return df"
   ]
  },
  {
   "cell_type": "code",
   "execution_count": 76,
   "metadata": {
    "ExecuteTime": {
     "end_time": "2022-05-25T03:44:45.797038Z",
     "start_time": "2022-05-25T03:44:45.790922Z"
    }
   },
   "outputs": [],
   "source": [
    "device_list=['C004223', 'C005042'] \n",
    "start='2021-05-21'\n",
    "end='2021-06-17'"
   ]
  },
  {
   "cell_type": "code",
   "execution_count": 77,
   "metadata": {
    "ExecuteTime": {
     "end_time": "2022-05-25T03:46:15.667072Z",
     "start_time": "2022-05-25T03:45:47.967546Z"
    }
   },
   "outputs": [
    {
     "name": "stdout",
     "output_type": "stream",
     "text": [
      "C004223 2021-05-21 2021-06-17\n",
      "(649, 4)\n",
      "C005042 2021-05-21 2021-06-17\n",
      "(649, 4)\n"
     ]
    }
   ],
   "source": [
    "series = []\n",
    "df_final = pd.DataFrame()\n",
    "\n",
    "for device in device_list:\n",
    "    print(device, start, end)\n",
    "#     device='*'\n",
    "    df_calval_dev = read_calval_dev(pg_conn, device, start, end)\n",
    "    print(df_calval_dev.shape)\n",
    "    if not df_calval_dev.empty:\n",
    "        df_final=pd.concat([df_final, df_calval_dev])\n"
   ]
  },
  {
   "cell_type": "code",
   "execution_count": 78,
   "metadata": {
    "ExecuteTime": {
     "end_time": "2022-05-25T03:42:24.896847Z",
     "start_time": "2022-05-25T03:42:24.880098Z"
    }
   },
   "outputs": [],
   "source": [
    "#change set time data as index, run \n",
    "df_calval_dev=settimeindex(df_final)"
   ]
  },
  {
   "cell_type": "code",
   "execution_count": 79,
   "metadata": {},
   "outputs": [
    {
     "data": {
      "text/html": [
       "<div>\n",
       "<style scoped>\n",
       "    .dataframe tbody tr th:only-of-type {\n",
       "        vertical-align: middle;\n",
       "    }\n",
       "\n",
       "    .dataframe tbody tr th {\n",
       "        vertical-align: top;\n",
       "    }\n",
       "\n",
       "    .dataframe thead th {\n",
       "        text-align: right;\n",
       "    }\n",
       "</style>\n",
       "<table border=\"1\" class=\"dataframe\">\n",
       "  <thead>\n",
       "    <tr style=\"text-align: right;\">\n",
       "      <th></th>\n",
       "      <th>index</th>\n",
       "      <th>time</th>\n",
       "      <th>device</th>\n",
       "      <th>tair</th>\n",
       "      <th>ref_tair</th>\n",
       "    </tr>\n",
       "    <tr>\n",
       "      <th>time</th>\n",
       "      <th></th>\n",
       "      <th></th>\n",
       "      <th></th>\n",
       "      <th></th>\n",
       "      <th></th>\n",
       "    </tr>\n",
       "  </thead>\n",
       "  <tbody>\n",
       "    <tr>\n",
       "      <th>2021-05-21 00:00:00+00:00</th>\n",
       "      <td>0</td>\n",
       "      <td>2021-05-21 00:00:00+00:00</td>\n",
       "      <td>C004223</td>\n",
       "      <td>22.731041</td>\n",
       "      <td>22.444444</td>\n",
       "    </tr>\n",
       "    <tr>\n",
       "      <th>2021-05-21 01:00:00+00:00</th>\n",
       "      <td>1</td>\n",
       "      <td>2021-05-21 01:00:00+00:00</td>\n",
       "      <td>C004223</td>\n",
       "      <td>22.362041</td>\n",
       "      <td>22.129629</td>\n",
       "    </tr>\n",
       "    <tr>\n",
       "      <th>2021-05-21 02:00:00+00:00</th>\n",
       "      <td>2</td>\n",
       "      <td>2021-05-21 02:00:00+00:00</td>\n",
       "      <td>C004223</td>\n",
       "      <td>22.492142</td>\n",
       "      <td>22.638888</td>\n",
       "    </tr>\n",
       "    <tr>\n",
       "      <th>2021-05-21 03:00:00+00:00</th>\n",
       "      <td>3</td>\n",
       "      <td>2021-05-21 03:00:00+00:00</td>\n",
       "      <td>C004223</td>\n",
       "      <td>22.664692</td>\n",
       "      <td>22.787038</td>\n",
       "    </tr>\n",
       "    <tr>\n",
       "      <th>2021-05-21 04:00:00+00:00</th>\n",
       "      <td>4</td>\n",
       "      <td>2021-05-21 04:00:00+00:00</td>\n",
       "      <td>C004223</td>\n",
       "      <td>22.091541</td>\n",
       "      <td>22.583333</td>\n",
       "    </tr>\n",
       "    <tr>\n",
       "      <th>...</th>\n",
       "      <td>...</td>\n",
       "      <td>...</td>\n",
       "      <td>...</td>\n",
       "      <td>...</td>\n",
       "      <td>...</td>\n",
       "    </tr>\n",
       "    <tr>\n",
       "      <th>2021-06-16 20:00:00+00:00</th>\n",
       "      <td>644</td>\n",
       "      <td>2021-06-16 20:00:00+00:00</td>\n",
       "      <td>C005042</td>\n",
       "      <td>25.710726</td>\n",
       "      <td>24.379629</td>\n",
       "    </tr>\n",
       "    <tr>\n",
       "      <th>2021-06-16 21:00:00+00:00</th>\n",
       "      <td>645</td>\n",
       "      <td>2021-06-16 21:00:00+00:00</td>\n",
       "      <td>C005042</td>\n",
       "      <td>26.135440</td>\n",
       "      <td>25.106482</td>\n",
       "    </tr>\n",
       "    <tr>\n",
       "      <th>2021-06-16 22:00:00+00:00</th>\n",
       "      <td>646</td>\n",
       "      <td>2021-06-16 22:00:00+00:00</td>\n",
       "      <td>C005042</td>\n",
       "      <td>26.936916</td>\n",
       "      <td>25.532408</td>\n",
       "    </tr>\n",
       "    <tr>\n",
       "      <th>2021-06-16 23:00:00+00:00</th>\n",
       "      <td>647</td>\n",
       "      <td>2021-06-16 23:00:00+00:00</td>\n",
       "      <td>C005042</td>\n",
       "      <td>26.944440</td>\n",
       "      <td>25.833333</td>\n",
       "    </tr>\n",
       "    <tr>\n",
       "      <th>2021-06-17 00:00:00+00:00</th>\n",
       "      <td>648</td>\n",
       "      <td>2021-06-17 00:00:00+00:00</td>\n",
       "      <td>C005042</td>\n",
       "      <td>26.807934</td>\n",
       "      <td>25.763889</td>\n",
       "    </tr>\n",
       "  </tbody>\n",
       "</table>\n",
       "<p>1298 rows × 5 columns</p>\n",
       "</div>"
      ],
      "text/plain": [
       "                           index                      time   device  \\\n",
       "time                                                                  \n",
       "2021-05-21 00:00:00+00:00      0 2021-05-21 00:00:00+00:00  C004223   \n",
       "2021-05-21 01:00:00+00:00      1 2021-05-21 01:00:00+00:00  C004223   \n",
       "2021-05-21 02:00:00+00:00      2 2021-05-21 02:00:00+00:00  C004223   \n",
       "2021-05-21 03:00:00+00:00      3 2021-05-21 03:00:00+00:00  C004223   \n",
       "2021-05-21 04:00:00+00:00      4 2021-05-21 04:00:00+00:00  C004223   \n",
       "...                          ...                       ...      ...   \n",
       "2021-06-16 20:00:00+00:00    644 2021-06-16 20:00:00+00:00  C005042   \n",
       "2021-06-16 21:00:00+00:00    645 2021-06-16 21:00:00+00:00  C005042   \n",
       "2021-06-16 22:00:00+00:00    646 2021-06-16 22:00:00+00:00  C005042   \n",
       "2021-06-16 23:00:00+00:00    647 2021-06-16 23:00:00+00:00  C005042   \n",
       "2021-06-17 00:00:00+00:00    648 2021-06-17 00:00:00+00:00  C005042   \n",
       "\n",
       "                                tair   ref_tair  \n",
       "time                                             \n",
       "2021-05-21 00:00:00+00:00  22.731041  22.444444  \n",
       "2021-05-21 01:00:00+00:00  22.362041  22.129629  \n",
       "2021-05-21 02:00:00+00:00  22.492142  22.638888  \n",
       "2021-05-21 03:00:00+00:00  22.664692  22.787038  \n",
       "2021-05-21 04:00:00+00:00  22.091541  22.583333  \n",
       "...                              ...        ...  \n",
       "2021-06-16 20:00:00+00:00  25.710726  24.379629  \n",
       "2021-06-16 21:00:00+00:00  26.135440  25.106482  \n",
       "2021-06-16 22:00:00+00:00  26.936916  25.532408  \n",
       "2021-06-16 23:00:00+00:00  26.944440  25.833333  \n",
       "2021-06-17 00:00:00+00:00  26.807934  25.763889  \n",
       "\n",
       "[1298 rows x 5 columns]"
      ]
     },
     "execution_count": 79,
     "metadata": {},
     "output_type": "execute_result"
    }
   ],
   "source": [
    "df_calval_dev"
   ]
  },
  {
   "cell_type": "markdown",
   "metadata": {},
   "source": [
    "## Here We learn how to pull CalVal and Device Data, which used to be tedious procedure! "
   ]
  },
  {
   "cell_type": "markdown",
   "metadata": {},
   "source": [
    "### Q: can you modify the query to pull a CALVAL Mark Device for a time window of your interest?"
   ]
  },
  {
   "cell_type": "markdown",
   "metadata": {},
   "source": [
    "## Great Job!"
   ]
  },
  {
   "cell_type": "code",
   "execution_count": null,
   "metadata": {},
   "outputs": [],
   "source": [
    "#"
   ]
  }
 ],
 "metadata": {
  "instance_type": "ml.t3.medium",
  "kernelspec": {
   "display_name": "Python 3 (Data Science)",
   "language": "python",
   "name": "python3__SAGEMAKER_INTERNAL__arn:aws:sagemaker:us-east-1:081325390199:image/datascience-1.0"
  },
  "language_info": {
   "codemirror_mode": {
    "name": "ipython",
    "version": 3
   },
   "file_extension": ".py",
   "mimetype": "text/x-python",
   "name": "python",
   "nbconvert_exporter": "python",
   "pygments_lexer": "ipython3",
   "version": "3.7.10"
  },
  "toc": {
   "base_numbering": 1,
   "nav_menu": {},
   "number_sections": true,
   "sideBar": true,
   "skip_h1_title": false,
   "title_cell": "Table of Contents",
   "title_sidebar": "Contents",
   "toc_cell": false,
   "toc_position": {},
   "toc_section_display": true,
   "toc_window_display": false
  }
 },
 "nbformat": 4,
 "nbformat_minor": 5
}
